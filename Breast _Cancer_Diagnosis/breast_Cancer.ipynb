{
 "cells": [
  {
   "cell_type": "code",
   "execution_count": 65,
   "metadata": {},
   "outputs": [
    {
     "name": "stdout",
     "output_type": "stream",
     "text": [
      "Accuracy : 0.956140350877193\n",
      "Confusion Matrix :\n",
      " [[39  4]\n",
      " [ 1 70]]\n",
      "Classification Report :\n",
      "               precision    recall  f1-score   support\n",
      "\n",
      "           0       0.97      0.91      0.94        43\n",
      "           1       0.95      0.99      0.97        71\n",
      "\n",
      "    accuracy                           0.96       114\n",
      "   macro avg       0.96      0.95      0.95       114\n",
      "weighted avg       0.96      0.96      0.96       114\n",
      "\n"
     ]
    },
    {
     "name": "stderr",
     "output_type": "stream",
     "text": [
      "c:\\Users\\NEERA KUMARI\\AppData\\Local\\Programs\\Python\\Python311\\Lib\\site-packages\\sklearn\\linear_model\\_logistic.py:458: ConvergenceWarning:\n",
      "\n",
      "lbfgs failed to converge (status=1):\n",
      "STOP: TOTAL NO. of ITERATIONS REACHED LIMIT.\n",
      "\n",
      "Increase the number of iterations (max_iter) or scale the data as shown in:\n",
      "    https://scikit-learn.org/stable/modules/preprocessing.html\n",
      "Please also refer to the documentation for alternative solver options:\n",
      "    https://scikit-learn.org/stable/modules/linear_model.html#logistic-regression\n",
      "\n"
     ]
    }
   ],
   "source": [
    "import pandas as pd\n",
    "from sklearn  import datasets\n",
    "from sklearn.preprocessing import StandardScaler\n",
    "from sklearn.model_selection import train_test_split\n",
    "from sklearn.linear_model import LogisticRegression\n",
    "from sklearn.metrics import accuracy_score,classification_report,confusion_matrix\n",
    "\n",
    "import pickle\n",
    "\n",
    "\n",
    "def create_model(df):\n",
    "    \n",
    "    x=df.drop(\"diagnosis\",axis=1)\n",
    "    y=df['diagnosis']\n",
    "    \n",
    "    scaler=StandardScaler()\n",
    "    scaler.fit_transform(x)\n",
    "    \n",
    "    xtr,xts,ytr,yts=train_test_split(x,y,test_size=0.2,random_state=42)\n",
    "    \n",
    "    \n",
    "    model=LogisticRegression()\n",
    "    model.fit(xtr,ytr)\n",
    "    \n",
    "    pred=model.predict(xts)\n",
    "    \n",
    "    print(\"Accuracy :\",accuracy_score(yts,pred))\n",
    "    print(\"Confusion Matrix :\\n\",confusion_matrix(yts,pred))\n",
    "    print(\"Classification Report :\\n\",classification_report(yts,pred))\n",
    "    \n",
    "    \n",
    "    \n",
    "    \n",
    "    return model,scaler\n",
    "    \n",
    "\n",
    "def get_clean_data():\n",
    "    features=datasets.load_breast_cancer().feature_names\n",
    "\n",
    "    df=pd.DataFrame(datasets.load_breast_cancer().data, columns=features)\n",
    "    df[\"diagnosis\"]=datasets.load_breast_cancer().target\n",
    "    return df\n",
    "\n",
    "\n",
    "    \n",
    "\n",
    "def main():\n",
    "    data=get_clean_data()\n",
    "    \n",
    "    model,scaler=create_model(data)\n",
    "    \n",
    "    pickle.dump(model,open(\"model.pkl\",\"wb\"))\n",
    "    pickle.dump(scaler,open(\"scaler.pkl\",\"wb\"))\n",
    "    \n",
    "    \n",
    "   \n",
    "    \n",
    "if __name__=='__main__':\n",
    "    main()\n",
    "    "
   ]
  }
 ],
 "metadata": {
  "kernelspec": {
   "display_name": "Python 3",
   "language": "python",
   "name": "python3"
  },
  "language_info": {
   "codemirror_mode": {
    "name": "ipython",
    "version": 3
   },
   "file_extension": ".py",
   "mimetype": "text/x-python",
   "name": "python",
   "nbconvert_exporter": "python",
   "pygments_lexer": "ipython3",
   "version": "3.11.4"
  }
 },
 "nbformat": 4,
 "nbformat_minor": 2
}
